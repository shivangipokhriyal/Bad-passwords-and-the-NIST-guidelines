{
  "nbformat": 4,
  "nbformat_minor": 0,
  "metadata": {
    "accelerator": "GPU",
    "colab": {
      "name": "BrainTumor.ipynb",
      "provenance": [],
      "collapsed_sections": [],
      "mount_file_id": "1dZkHXTBhjDAjghVpedxNwqf7Ta8rxzC_",
      "authorship_tag": "ABX9TyOoYFutbj/DQ1Q3ljFJYY9I",
      "include_colab_link": true
    },
    "kernelspec": {
      "display_name": "Python 3",
      "name": "python3"
    },
    "widgets": {
      "application/vnd.jupyter.widget-state+json": {
        "d6ca3b51d977406ca959032090d2361e": {
          "model_module": "@jupyter-widgets/controls",
          "model_name": "HBoxModel",
          "state": {
            "_view_name": "HBoxView",
            "_dom_classes": [],
            "_model_name": "HBoxModel",
            "_view_module": "@jupyter-widgets/controls",
            "_model_module_version": "1.5.0",
            "_view_count": null,
            "_view_module_version": "1.5.0",
            "box_style": "",
            "layout": "IPY_MODEL_a55012f5daeb45d4858ab64126a9ad7a",
            "_model_module": "@jupyter-widgets/controls",
            "children": [
              "IPY_MODEL_abce5eee17c947469cd628bdcce198ff",
              "IPY_MODEL_f742f0bc46e74b169ba82ec6e1ec1a72"
            ]
          },
          "model_module_version": "1.5.0"
        },
        "a55012f5daeb45d4858ab64126a9ad7a": {
          "model_module": "@jupyter-widgets/base",
          "model_name": "LayoutModel",
          "state": {
            "_view_name": "LayoutView",
            "grid_template_rows": null,
            "right": null,
            "justify_content": null,
            "_view_module": "@jupyter-widgets/base",
            "overflow": null,
            "_model_module_version": "1.2.0",
            "_view_count": null,
            "flex_flow": null,
            "width": null,
            "min_width": null,
            "border": null,
            "align_items": null,
            "bottom": null,
            "_model_module": "@jupyter-widgets/base",
            "top": null,
            "grid_column": null,
            "overflow_y": null,
            "overflow_x": null,
            "grid_auto_flow": null,
            "grid_area": null,
            "grid_template_columns": null,
            "flex": null,
            "_model_name": "LayoutModel",
            "justify_items": null,
            "grid_row": null,
            "max_height": null,
            "align_content": null,
            "visibility": null,
            "align_self": null,
            "height": null,
            "min_height": null,
            "padding": null,
            "grid_auto_rows": null,
            "grid_gap": null,
            "max_width": null,
            "order": null,
            "_view_module_version": "1.2.0",
            "grid_template_areas": null,
            "object_position": null,
            "object_fit": null,
            "grid_auto_columns": null,
            "margin": null,
            "display": null,
            "left": null
          },
          "model_module_version": "1.2.0"
        },
        "abce5eee17c947469cd628bdcce198ff": {
          "model_module": "@jupyter-widgets/controls",
          "model_name": "FloatProgressModel",
          "state": {
            "_view_name": "ProgressView",
            "style": "IPY_MODEL_4a80cf0342f645a49b879f4943d1fb27",
            "_dom_classes": [],
            "description": "100%",
            "_model_name": "FloatProgressModel",
            "bar_style": "success",
            "max": 155,
            "_view_module": "@jupyter-widgets/controls",
            "_model_module_version": "1.5.0",
            "value": 155,
            "_view_count": null,
            "_view_module_version": "1.5.0",
            "orientation": "horizontal",
            "min": 0,
            "description_tooltip": null,
            "_model_module": "@jupyter-widgets/controls",
            "layout": "IPY_MODEL_7d27b8abaf87489caea6dcb51ca439aa"
          },
          "model_module_version": "1.5.0"
        },
        "f742f0bc46e74b169ba82ec6e1ec1a72": {
          "model_module": "@jupyter-widgets/controls",
          "model_name": "HTMLModel",
          "state": {
            "_view_name": "HTMLView",
            "style": "IPY_MODEL_52259b0ed2904235b1577f561c1bddb5",
            "_dom_classes": [],
            "description": "",
            "_model_name": "HTMLModel",
            "placeholder": "​",
            "_view_module": "@jupyter-widgets/controls",
            "_model_module_version": "1.5.0",
            "value": " 155/155 [01:05&lt;00:00,  2.38it/s]",
            "_view_count": null,
            "_view_module_version": "1.5.0",
            "description_tooltip": null,
            "_model_module": "@jupyter-widgets/controls",
            "layout": "IPY_MODEL_80911af4db504cf4ab2f6e10e2bc6695"
          },
          "model_module_version": "1.5.0"
        },
        "4a80cf0342f645a49b879f4943d1fb27": {
          "model_module": "@jupyter-widgets/controls",
          "model_name": "ProgressStyleModel",
          "state": {
            "_view_name": "StyleView",
            "_model_name": "ProgressStyleModel",
            "description_width": "initial",
            "_view_module": "@jupyter-widgets/base",
            "_model_module_version": "1.5.0",
            "_view_count": null,
            "_view_module_version": "1.2.0",
            "bar_color": null,
            "_model_module": "@jupyter-widgets/controls"
          },
          "model_module_version": "1.5.0"
        },
        "7d27b8abaf87489caea6dcb51ca439aa": {
          "model_module": "@jupyter-widgets/base",
          "model_name": "LayoutModel",
          "state": {
            "_view_name": "LayoutView",
            "grid_template_rows": null,
            "right": null,
            "justify_content": null,
            "_view_module": "@jupyter-widgets/base",
            "overflow": null,
            "_model_module_version": "1.2.0",
            "_view_count": null,
            "flex_flow": null,
            "width": null,
            "min_width": null,
            "border": null,
            "align_items": null,
            "bottom": null,
            "_model_module": "@jupyter-widgets/base",
            "top": null,
            "grid_column": null,
            "overflow_y": null,
            "overflow_x": null,
            "grid_auto_flow": null,
            "grid_area": null,
            "grid_template_columns": null,
            "flex": null,
            "_model_name": "LayoutModel",
            "justify_items": null,
            "grid_row": null,
            "max_height": null,
            "align_content": null,
            "visibility": null,
            "align_self": null,
            "height": null,
            "min_height": null,
            "padding": null,
            "grid_auto_rows": null,
            "grid_gap": null,
            "max_width": null,
            "order": null,
            "_view_module_version": "1.2.0",
            "grid_template_areas": null,
            "object_position": null,
            "object_fit": null,
            "grid_auto_columns": null,
            "margin": null,
            "display": null,
            "left": null
          },
          "model_module_version": "1.2.0"
        },
        "52259b0ed2904235b1577f561c1bddb5": {
          "model_module": "@jupyter-widgets/controls",
          "model_name": "DescriptionStyleModel",
          "state": {
            "_view_name": "StyleView",
            "_model_name": "DescriptionStyleModel",
            "description_width": "",
            "_view_module": "@jupyter-widgets/base",
            "_model_module_version": "1.5.0",
            "_view_count": null,
            "_view_module_version": "1.2.0",
            "_model_module": "@jupyter-widgets/controls"
          },
          "model_module_version": "1.5.0"
        },
        "80911af4db504cf4ab2f6e10e2bc6695": {
          "model_module": "@jupyter-widgets/base",
          "model_name": "LayoutModel",
          "state": {
            "_view_name": "LayoutView",
            "grid_template_rows": null,
            "right": null,
            "justify_content": null,
            "_view_module": "@jupyter-widgets/base",
            "overflow": null,
            "_model_module_version": "1.2.0",
            "_view_count": null,
            "flex_flow": null,
            "width": null,
            "min_width": null,
            "border": null,
            "align_items": null,
            "bottom": null,
            "_model_module": "@jupyter-widgets/base",
            "top": null,
            "grid_column": null,
            "overflow_y": null,
            "overflow_x": null,
            "grid_auto_flow": null,
            "grid_area": null,
            "grid_template_columns": null,
            "flex": null,
            "_model_name": "LayoutModel",
            "justify_items": null,
            "grid_row": null,
            "max_height": null,
            "align_content": null,
            "visibility": null,
            "align_self": null,
            "height": null,
            "min_height": null,
            "padding": null,
            "grid_auto_rows": null,
            "grid_gap": null,
            "max_width": null,
            "order": null,
            "_view_module_version": "1.2.0",
            "grid_template_areas": null,
            "object_position": null,
            "object_fit": null,
            "grid_auto_columns": null,
            "margin": null,
            "display": null,
            "left": null
          },
          "model_module_version": "1.2.0"
        },
        "17879341779046c2ac534788c004f0ca": {
          "model_module": "@jupyter-widgets/controls",
          "model_name": "HBoxModel",
          "state": {
            "_view_name": "HBoxView",
            "_dom_classes": [],
            "_model_name": "HBoxModel",
            "_view_module": "@jupyter-widgets/controls",
            "_model_module_version": "1.5.0",
            "_view_count": null,
            "_view_module_version": "1.5.0",
            "box_style": "",
            "layout": "IPY_MODEL_20c10d1fbbc549c2aabff9671d0d4081",
            "_model_module": "@jupyter-widgets/controls",
            "children": [
              "IPY_MODEL_2900a6d448c64d2eb8c6e22fad98c337",
              "IPY_MODEL_23ff79efb48146369895e1692f0e4eb9"
            ]
          },
          "model_module_version": "1.5.0"
        },
        "20c10d1fbbc549c2aabff9671d0d4081": {
          "model_module": "@jupyter-widgets/base",
          "model_name": "LayoutModel",
          "state": {
            "_view_name": "LayoutView",
            "grid_template_rows": null,
            "right": null,
            "justify_content": null,
            "_view_module": "@jupyter-widgets/base",
            "overflow": null,
            "_model_module_version": "1.2.0",
            "_view_count": null,
            "flex_flow": null,
            "width": null,
            "min_width": null,
            "border": null,
            "align_items": null,
            "bottom": null,
            "_model_module": "@jupyter-widgets/base",
            "top": null,
            "grid_column": null,
            "overflow_y": null,
            "overflow_x": null,
            "grid_auto_flow": null,
            "grid_area": null,
            "grid_template_columns": null,
            "flex": null,
            "_model_name": "LayoutModel",
            "justify_items": null,
            "grid_row": null,
            "max_height": null,
            "align_content": null,
            "visibility": null,
            "align_self": null,
            "height": null,
            "min_height": null,
            "padding": null,
            "grid_auto_rows": null,
            "grid_gap": null,
            "max_width": null,
            "order": null,
            "_view_module_version": "1.2.0",
            "grid_template_areas": null,
            "object_position": null,
            "object_fit": null,
            "grid_auto_columns": null,
            "margin": null,
            "display": null,
            "left": null
          },
          "model_module_version": "1.2.0"
        },
        "2900a6d448c64d2eb8c6e22fad98c337": {
          "model_module": "@jupyter-widgets/controls",
          "model_name": "FloatProgressModel",
          "state": {
            "_view_name": "ProgressView",
            "style": "IPY_MODEL_d04d78b5e4354888b8002d27051baf0e",
            "_dom_classes": [],
            "description": "100%",
            "_model_name": "FloatProgressModel",
            "bar_style": "success",
            "max": 98,
            "_view_module": "@jupyter-widgets/controls",
            "_model_module_version": "1.5.0",
            "value": 98,
            "_view_count": null,
            "_view_module_version": "1.5.0",
            "orientation": "horizontal",
            "min": 0,
            "description_tooltip": null,
            "_model_module": "@jupyter-widgets/controls",
            "layout": "IPY_MODEL_36e5dca038c94ef49fdb9dca5f902c80"
          },
          "model_module_version": "1.5.0"
        },
        "23ff79efb48146369895e1692f0e4eb9": {
          "model_module": "@jupyter-widgets/controls",
          "model_name": "HTMLModel",
          "state": {
            "_view_name": "HTMLView",
            "style": "IPY_MODEL_84dc3d611b4b46d3bf7ae6cf654f853d",
            "_dom_classes": [],
            "description": "",
            "_model_name": "HTMLModel",
            "placeholder": "​",
            "_view_module": "@jupyter-widgets/controls",
            "_model_module_version": "1.5.0",
            "value": " 98/98 [00:24&lt;00:00,  3.96it/s]",
            "_view_count": null,
            "_view_module_version": "1.5.0",
            "description_tooltip": null,
            "_model_module": "@jupyter-widgets/controls",
            "layout": "IPY_MODEL_05ccf5c980be43bc80300f36f28f78be"
          },
          "model_module_version": "1.5.0"
        },
        "d04d78b5e4354888b8002d27051baf0e": {
          "model_module": "@jupyter-widgets/controls",
          "model_name": "ProgressStyleModel",
          "state": {
            "_view_name": "StyleView",
            "_model_name": "ProgressStyleModel",
            "description_width": "initial",
            "_view_module": "@jupyter-widgets/base",
            "_model_module_version": "1.5.0",
            "_view_count": null,
            "_view_module_version": "1.2.0",
            "bar_color": null,
            "_model_module": "@jupyter-widgets/controls"
          },
          "model_module_version": "1.5.0"
        },
        "36e5dca038c94ef49fdb9dca5f902c80": {
          "model_module": "@jupyter-widgets/base",
          "model_name": "LayoutModel",
          "state": {
            "_view_name": "LayoutView",
            "grid_template_rows": null,
            "right": null,
            "justify_content": null,
            "_view_module": "@jupyter-widgets/base",
            "overflow": null,
            "_model_module_version": "1.2.0",
            "_view_count": null,
            "flex_flow": null,
            "width": null,
            "min_width": null,
            "border": null,
            "align_items": null,
            "bottom": null,
            "_model_module": "@jupyter-widgets/base",
            "top": null,
            "grid_column": null,
            "overflow_y": null,
            "overflow_x": null,
            "grid_auto_flow": null,
            "grid_area": null,
            "grid_template_columns": null,
            "flex": null,
            "_model_name": "LayoutModel",
            "justify_items": null,
            "grid_row": null,
            "max_height": null,
            "align_content": null,
            "visibility": null,
            "align_self": null,
            "height": null,
            "min_height": null,
            "padding": null,
            "grid_auto_rows": null,
            "grid_gap": null,
            "max_width": null,
            "order": null,
            "_view_module_version": "1.2.0",
            "grid_template_areas": null,
            "object_position": null,
            "object_fit": null,
            "grid_auto_columns": null,
            "margin": null,
            "display": null,
            "left": null
          },
          "model_module_version": "1.2.0"
        },
        "84dc3d611b4b46d3bf7ae6cf654f853d": {
          "model_module": "@jupyter-widgets/controls",
          "model_name": "DescriptionStyleModel",
          "state": {
            "_view_name": "StyleView",
            "_model_name": "DescriptionStyleModel",
            "description_width": "",
            "_view_module": "@jupyter-widgets/base",
            "_model_module_version": "1.5.0",
            "_view_count": null,
            "_view_module_version": "1.2.0",
            "_model_module": "@jupyter-widgets/controls"
          },
          "model_module_version": "1.5.0"
        },
        "05ccf5c980be43bc80300f36f28f78be": {
          "model_module": "@jupyter-widgets/base",
          "model_name": "LayoutModel",
          "state": {
            "_view_name": "LayoutView",
            "grid_template_rows": null,
            "right": null,
            "justify_content": null,
            "_view_module": "@jupyter-widgets/base",
            "overflow": null,
            "_model_module_version": "1.2.0",
            "_view_count": null,
            "flex_flow": null,
            "width": null,
            "min_width": null,
            "border": null,
            "align_items": null,
            "bottom": null,
            "_model_module": "@jupyter-widgets/base",
            "top": null,
            "grid_column": null,
            "overflow_y": null,
            "overflow_x": null,
            "grid_auto_flow": null,
            "grid_area": null,
            "grid_template_columns": null,
            "flex": null,
            "_model_name": "LayoutModel",
            "justify_items": null,
            "grid_row": null,
            "max_height": null,
            "align_content": null,
            "visibility": null,
            "align_self": null,
            "height": null,
            "min_height": null,
            "padding": null,
            "grid_auto_rows": null,
            "grid_gap": null,
            "max_width": null,
            "order": null,
            "_view_module_version": "1.2.0",
            "grid_template_areas": null,
            "object_position": null,
            "object_fit": null,
            "grid_auto_columns": null,
            "margin": null,
            "display": null,
            "left": null
          },
          "model_module_version": "1.2.0"
        },
        "51f51e0e926047da8065666a10d6b9b5": {
          "model_module": "@jupyter-widgets/controls",
          "model_name": "HBoxModel",
          "state": {
            "_view_name": "HBoxView",
            "_dom_classes": [],
            "_model_name": "HBoxModel",
            "_view_module": "@jupyter-widgets/controls",
            "_model_module_version": "1.5.0",
            "_view_count": null,
            "_view_module_version": "1.5.0",
            "box_style": "",
            "layout": "IPY_MODEL_b59eb21cb3ea4a12aa91e0add9818aea",
            "_model_module": "@jupyter-widgets/controls",
            "children": [
              "IPY_MODEL_433d747669b948e0b426f6bcf0cc480f",
              "IPY_MODEL_bdf13fbb26c64fda8432cdfb933ff138"
            ]
          },
          "model_module_version": "1.5.0"
        },
        "b59eb21cb3ea4a12aa91e0add9818aea": {
          "model_module": "@jupyter-widgets/base",
          "model_name": "LayoutModel",
          "state": {
            "_view_name": "LayoutView",
            "grid_template_rows": null,
            "right": null,
            "justify_content": null,
            "_view_module": "@jupyter-widgets/base",
            "overflow": null,
            "_model_module_version": "1.2.0",
            "_view_count": null,
            "flex_flow": null,
            "width": null,
            "min_width": null,
            "border": null,
            "align_items": null,
            "bottom": null,
            "_model_module": "@jupyter-widgets/base",
            "top": null,
            "grid_column": null,
            "overflow_y": null,
            "overflow_x": null,
            "grid_auto_flow": null,
            "grid_area": null,
            "grid_template_columns": null,
            "flex": null,
            "_model_name": "LayoutModel",
            "justify_items": null,
            "grid_row": null,
            "max_height": null,
            "align_content": null,
            "visibility": null,
            "align_self": null,
            "height": null,
            "min_height": null,
            "padding": null,
            "grid_auto_rows": null,
            "grid_gap": null,
            "max_width": null,
            "order": null,
            "_view_module_version": "1.2.0",
            "grid_template_areas": null,
            "object_position": null,
            "object_fit": null,
            "grid_auto_columns": null,
            "margin": null,
            "display": null,
            "left": null
          },
          "model_module_version": "1.2.0"
        },
        "433d747669b948e0b426f6bcf0cc480f": {
          "model_module": "@jupyter-widgets/controls",
          "model_name": "FloatProgressModel",
          "state": {
            "_view_name": "ProgressView",
            "style": "IPY_MODEL_b2f8e40d812a4118a955f64eb2eaad83",
            "_dom_classes": [],
            "description": "100%",
            "_model_name": "FloatProgressModel",
            "bar_style": "success",
            "max": 3,
            "_view_module": "@jupyter-widgets/controls",
            "_model_module_version": "1.5.0",
            "value": 3,
            "_view_count": null,
            "_view_module_version": "1.5.0",
            "orientation": "horizontal",
            "min": 0,
            "description_tooltip": null,
            "_model_module": "@jupyter-widgets/controls",
            "layout": "IPY_MODEL_c45fffd48dd34f0fbcadd87bf1cbcee8"
          },
          "model_module_version": "1.5.0"
        },
        "bdf13fbb26c64fda8432cdfb933ff138": {
          "model_module": "@jupyter-widgets/controls",
          "model_name": "HTMLModel",
          "state": {
            "_view_name": "HTMLView",
            "style": "IPY_MODEL_4c02e6e784e24acbaa133dc0169f7bb7",
            "_dom_classes": [],
            "description": "",
            "_model_name": "HTMLModel",
            "placeholder": "​",
            "_view_module": "@jupyter-widgets/controls",
            "_model_module_version": "1.5.0",
            "value": " 3/3 [00:00&lt;00:00,  6.95it/s]",
            "_view_count": null,
            "_view_module_version": "1.5.0",
            "description_tooltip": null,
            "_model_module": "@jupyter-widgets/controls",
            "layout": "IPY_MODEL_066d7aec020b4a2db460dd2eaa69208c"
          },
          "model_module_version": "1.5.0"
        },
        "b2f8e40d812a4118a955f64eb2eaad83": {
          "model_module": "@jupyter-widgets/controls",
          "model_name": "ProgressStyleModel",
          "state": {
            "_view_name": "StyleView",
            "_model_name": "ProgressStyleModel",
            "description_width": "initial",
            "_view_module": "@jupyter-widgets/base",
            "_model_module_version": "1.5.0",
            "_view_count": null,
            "_view_module_version": "1.2.0",
            "bar_color": null,
            "_model_module": "@jupyter-widgets/controls"
          },
          "model_module_version": "1.5.0"
        },
        "c45fffd48dd34f0fbcadd87bf1cbcee8": {
          "model_module": "@jupyter-widgets/base",
          "model_name": "LayoutModel",
          "state": {
            "_view_name": "LayoutView",
            "grid_template_rows": null,
            "right": null,
            "justify_content": null,
            "_view_module": "@jupyter-widgets/base",
            "overflow": null,
            "_model_module_version": "1.2.0",
            "_view_count": null,
            "flex_flow": null,
            "width": null,
            "min_width": null,
            "border": null,
            "align_items": null,
            "bottom": null,
            "_model_module": "@jupyter-widgets/base",
            "top": null,
            "grid_column": null,
            "overflow_y": null,
            "overflow_x": null,
            "grid_auto_flow": null,
            "grid_area": null,
            "grid_template_columns": null,
            "flex": null,
            "_model_name": "LayoutModel",
            "justify_items": null,
            "grid_row": null,
            "max_height": null,
            "align_content": null,
            "visibility": null,
            "align_self": null,
            "height": null,
            "min_height": null,
            "padding": null,
            "grid_auto_rows": null,
            "grid_gap": null,
            "max_width": null,
            "order": null,
            "_view_module_version": "1.2.0",
            "grid_template_areas": null,
            "object_position": null,
            "object_fit": null,
            "grid_auto_columns": null,
            "margin": null,
            "display": null,
            "left": null
          },
          "model_module_version": "1.2.0"
        },
        "4c02e6e784e24acbaa133dc0169f7bb7": {
          "model_module": "@jupyter-widgets/controls",
          "model_name": "DescriptionStyleModel",
          "state": {
            "_view_name": "StyleView",
            "_model_name": "DescriptionStyleModel",
            "description_width": "",
            "_view_module": "@jupyter-widgets/base",
            "_model_module_version": "1.5.0",
            "_view_count": null,
            "_view_module_version": "1.2.0",
            "_model_module": "@jupyter-widgets/controls"
          },
          "model_module_version": "1.5.0"
        },
        "066d7aec020b4a2db460dd2eaa69208c": {
          "model_module": "@jupyter-widgets/base",
          "model_name": "LayoutModel",
          "state": {
            "_view_name": "LayoutView",
            "grid_template_rows": null,
            "right": null,
            "justify_content": null,
            "_view_module": "@jupyter-widgets/base",
            "overflow": null,
            "_model_module_version": "1.2.0",
            "_view_count": null,
            "flex_flow": null,
            "width": null,
            "min_width": null,
            "border": null,
            "align_items": null,
            "bottom": null,
            "_model_module": "@jupyter-widgets/base",
            "top": null,
            "grid_column": null,
            "overflow_y": null,
            "overflow_x": null,
            "grid_auto_flow": null,
            "grid_area": null,
            "grid_template_columns": null,
            "flex": null,
            "_model_name": "LayoutModel",
            "justify_items": null,
            "grid_row": null,
            "max_height": null,
            "align_content": null,
            "visibility": null,
            "align_self": null,
            "height": null,
            "min_height": null,
            "padding": null,
            "grid_auto_rows": null,
            "grid_gap": null,
            "max_width": null,
            "order": null,
            "_view_module_version": "1.2.0",
            "grid_template_areas": null,
            "object_position": null,
            "object_fit": null,
            "grid_auto_columns": null,
            "margin": null,
            "display": null,
            "left": null
          },
          "model_module_version": "1.2.0"
        }
      }
    }
  },
  "cells": [
    {
      "cell_type": "markdown",
      "metadata": {
        "id": "view-in-github",
        "colab_type": "text"
      },
      "source": [
        "<a href=\"https://colab.research.google.com/github/shivangipokhriyal/Bad-passwords-and-the-NIST-guidelines/blob/master/BrainTumor.ipynb\" target=\"_parent\"><img src=\"https://colab.research.google.com/assets/colab-badge.svg\" alt=\"Open In Colab\"/></a>"
      ]
    },
    {
      "cell_type": "code",
      "metadata": {
        "id": "g1XSJPZ4Gl3o"
      },
      "source": [
        "import tensorflow as tf\n",
        "from zipfile import ZipFile\n",
        "import os,glob\n",
        "import cv2\n",
        "from tqdm.notebook import tqdm as tqdm\n",
        "import numpy as np\n",
        "from sklearn import preprocessing\n",
        "from sklearn.model_selection import train_test_split\n",
        "from sklearn.metrics import classification_report, confusion_matrix\n",
        "from keras.models import Sequential\n",
        "from keras.layers import Convolution2D, Dropout, Dense,MaxPooling2D\n",
        "from keras.layers import BatchNormalization\n",
        "from keras.layers import MaxPooling2D\n",
        "from keras.layers import Flatten"
      ],
      "execution_count": null,
      "outputs": []
    },
    {
      "cell_type": "code",
      "metadata": {
        "id": "pt9sUIuKML_c",
        "colab": {
          "base_uri": "https://localhost:8080/"
        },
        "outputId": "aaf5d4f5-5e1a-4c60-e356-18b9eebbf458"
      },
      "source": [
        "!pip install kaggle"
      ],
      "execution_count": null,
      "outputs": [
        {
          "output_type": "stream",
          "text": [
            "Requirement already satisfied: kaggle in /usr/local/lib/python3.7/dist-packages (1.5.12)\n",
            "Requirement already satisfied: certifi in /usr/local/lib/python3.7/dist-packages (from kaggle) (2020.12.5)\n",
            "Requirement already satisfied: six>=1.10 in /usr/local/lib/python3.7/dist-packages (from kaggle) (1.15.0)\n",
            "Requirement already satisfied: requests in /usr/local/lib/python3.7/dist-packages (from kaggle) (2.23.0)\n",
            "Requirement already satisfied: urllib3 in /usr/local/lib/python3.7/dist-packages (from kaggle) (1.24.3)\n",
            "Requirement already satisfied: python-slugify in /usr/local/lib/python3.7/dist-packages (from kaggle) (5.0.2)\n",
            "Requirement already satisfied: tqdm in /usr/local/lib/python3.7/dist-packages (from kaggle) (4.41.1)\n",
            "Requirement already satisfied: python-dateutil in /usr/local/lib/python3.7/dist-packages (from kaggle) (2.8.1)\n",
            "Requirement already satisfied: idna<3,>=2.5 in /usr/local/lib/python3.7/dist-packages (from requests->kaggle) (2.10)\n",
            "Requirement already satisfied: chardet<4,>=3.0.2 in /usr/local/lib/python3.7/dist-packages (from requests->kaggle) (3.0.4)\n",
            "Requirement already satisfied: text-unidecode>=1.3 in /usr/local/lib/python3.7/dist-packages (from python-slugify->kaggle) (1.3)\n"
          ],
          "name": "stdout"
        }
      ]
    },
    {
      "cell_type": "code",
      "metadata": {
        "id": "99PrXuDvhJM4",
        "colab": {
          "base_uri": "https://localhost:8080/",
          "height": 115,
          "referenced_widgets": [
            "d6ca3b51d977406ca959032090d2361e",
            "a55012f5daeb45d4858ab64126a9ad7a",
            "abce5eee17c947469cd628bdcce198ff",
            "f742f0bc46e74b169ba82ec6e1ec1a72",
            "4a80cf0342f645a49b879f4943d1fb27",
            "7d27b8abaf87489caea6dcb51ca439aa",
            "52259b0ed2904235b1577f561c1bddb5",
            "80911af4db504cf4ab2f6e10e2bc6695",
            "17879341779046c2ac534788c004f0ca",
            "20c10d1fbbc549c2aabff9671d0d4081",
            "2900a6d448c64d2eb8c6e22fad98c337",
            "23ff79efb48146369895e1692f0e4eb9",
            "d04d78b5e4354888b8002d27051baf0e",
            "36e5dca038c94ef49fdb9dca5f902c80",
            "84dc3d611b4b46d3bf7ae6cf654f853d",
            "05ccf5c980be43bc80300f36f28f78be"
          ]
        },
        "outputId": "aca57b19-ecf7-4756-aa96-9be3452f1994"
      },
      "source": [
        "os.chdir('/content/drive/MyDrive/yes')\n",
        "X = []\n",
        "y = []\n",
        "for i in tqdm(os.listdir()):\n",
        "      img = cv2.imread(i)   \n",
        "      img = cv2.resize(img,(28,28))\n",
        "      X.append(img)\n",
        "      y.append((i[0:1]))\n",
        "os.chdir('/content/drive/MyDrive/no')\n",
        "for i in tqdm(os.listdir()):\n",
        "      img = cv2.imread(i)   \n",
        "      img = cv2.resize(img,(28,28))\n",
        "      X.append(img)\n",
        "for i in range(1,99):\n",
        "    y.append('N')\n"
      ],
      "execution_count": null,
      "outputs": [
        {
          "output_type": "display_data",
          "data": {
            "application/vnd.jupyter.widget-view+json": {
              "model_id": "d6ca3b51d977406ca959032090d2361e",
              "version_minor": 0,
              "version_major": 2
            },
            "text/plain": [
              "HBox(children=(FloatProgress(value=0.0, max=155.0), HTML(value='')))"
            ]
          },
          "metadata": {
            "tags": []
          }
        },
        {
          "output_type": "stream",
          "text": [
            "\n"
          ],
          "name": "stdout"
        },
        {
          "output_type": "display_data",
          "data": {
            "application/vnd.jupyter.widget-view+json": {
              "model_id": "17879341779046c2ac534788c004f0ca",
              "version_minor": 0,
              "version_major": 2
            },
            "text/plain": [
              "HBox(children=(FloatProgress(value=0.0, max=98.0), HTML(value='')))"
            ]
          },
          "metadata": {
            "tags": []
          }
        },
        {
          "output_type": "stream",
          "text": [
            "\n"
          ],
          "name": "stdout"
        }
      ]
    },
    {
      "cell_type": "code",
      "metadata": {
        "id": "kvyAT1a_V9w8",
        "colab": {
          "base_uri": "https://localhost:8080/",
          "height": 227
        },
        "outputId": "477b8c37-6d8b-48f2-d128-c7e613381470"
      },
      "source": [
        "%matplotlib inline\n",
        "import matplotlib.pyplot as plt\n",
        "plt.figure(figsize=(40, 40))\n",
        "for i in range(4):\n",
        "    plt.subplot(1,4, i+1)\n",
        "    plt.imshow(X[i], cmap=\"gray\")\n",
        "    plt.axis('off')\n",
        "plt.show() "
      ],
      "execution_count": null,
      "outputs": [
        {
          "output_type": "display_data",
          "data": {
            "image/png": "[encoded data removed]",
            "text/plain": [
              "<Figure size 2880x2880 with 4 Axes>"
            ]
          },
          "metadata": {
            "tags": [],
            "needs_background": "light"
          }
        }
      ]
    },
    {
      "cell_type": "code",
      "metadata": {
        "id": "zAYqU23GWvz9",
        "colab": {
          "base_uri": "https://localhost:8080/"
        },
        "outputId": "96a4825e-067d-435f-f1b0-3c8b573d32d7"
      },
      "source": [
        "X_train, X_test, y_train, y_test = train_test_split(X, y, test_size=0.33, random_state=42)\n",
        "print (\"Shape of an image in X_train: \", X_train[0].shape)\n",
        "print (\"Shape of an image in X_test: \", X_test[0].shape)\n",
        "len(y_train)\n",
        "y_tr= np.array(y_train)\n",
        "type(y_tr)\n",
        "y_trr=y_tr.reshape(169,1)\n",
        "print(y_trr.shape)\n",
        "y_train=y_trr\n",
        "y_te=np.array(y_test)\n",
        "y_te.shape\n",
        "y_test=y_te.reshape(84,1)"
      ],
      "execution_count": null,
      "outputs": [
        {
          "output_type": "stream",
          "text": [
            "Shape of an image in X_train:  (28, 28, 3)\n",
            "Shape of an image in X_test:  (28, 28, 3)\n",
            "(169, 1)\n"
          ],
          "name": "stdout"
        }
      ]
    },
    {
      "cell_type": "code",
      "metadata": {
        "id": "thSaLuux4wtY",
        "colab": {
          "base_uri": "https://localhost:8080/"
        },
        "outputId": "68b9107b-a031-44f7-92ef-bfff072d0e2b"
      },
      "source": [
        "## USING KERAS TO SPLIT TEST AND TRAIN DATA\n",
        "## converting the labels (yes or no) into categoricals using keras\n",
        "le = preprocessing.LabelEncoder()\n",
        "y_train = le.fit_transform(y_train)\n",
        "y_test = le.fit_transform(y_test)\n",
        "y_train = tf.keras.utils.to_categorical(y_train, num_classes=2)\n",
        "y_test = tf.keras.utils.to_categorical(y_test, num_classes=2)\n",
        "y_train = np.array(y_train)\n",
        "X_train = np.array(X_train)\n",
        "y_test = np.array(y_test)\n",
        "X_test = np.array(X_test) \n",
        "print(\"X_train Shape: \", X_train.shape) \n",
        "print(\"X_test Shape: \", X_test.shape) \n",
        "print(\"y_train Shape: \", y_train.shape) \n",
        "print(\"y_test Shape: \", y_test.shape)"
      ],
      "execution_count": null,
      "outputs": [
        {
          "output_type": "stream",
          "text": [
            "X_train Shape:  (169, 28, 28, 3)\n",
            "X_test Shape:  (84, 28, 28, 3)\n",
            "y_train Shape:  (169, 2)\n",
            "y_test Shape:  (84, 2)\n"
          ],
          "name": "stdout"
        },
        {
          "output_type": "stream",
          "text": [
            "/usr/local/lib/python3.7/dist-packages/sklearn/preprocessing/_label.py:251: DataConversionWarning: A column-vector y was passed when a 1d array was expected. Please change the shape of y to (n_samples, ), for example using ravel().\n",
            "  y = column_or_1d(y, warn=True)\n"
          ],
          "name": "stderr"
        }
      ]
    },
    {
      "cell_type": "code",
      "metadata": {
        "id": "Uc7H_PSA8a4m",
        "colab": {
          "base_uri": "https://localhost:8080/"
        },
        "outputId": "5d2c5047-4b2b-46a2-999e-3b977eab5c54"
      },
      "source": [
        "print(\"X_train Shape: \", X_train.shape) \n",
        "print(\"X_test Shape: \", X_test.shape) \n",
        "print(\"y_train Shape: \", y_train.shape) \n",
        "print(\"y_test Shape: \", y_test.shape)"
      ],
      "execution_count": null,
      "outputs": [
        {
          "output_type": "stream",
          "text": [
            "X_train Shape:  (169, 28, 28, 3)\n",
            "X_test Shape:  (84, 28, 28, 3)\n",
            "y_train Shape:  (169, 2)\n",
            "y_test Shape:  (84, 2)\n"
          ],
          "name": "stdout"
        }
      ]
    },
    {
      "cell_type": "code",
      "metadata": {
        "id": "URgA_YQV8hN3"
      },
      "source": [
        "##defining the cnn and adding layers\n",
        "m1=Sequential()\n",
        "m1.add(BatchNormalization(input_shape = (28,28,3)))\n",
        "m1.add(Convolution2D(32, (3,3), activation ='relu', input_shape = (28, 28, 3))) \n",
        "m1.add(MaxPooling2D(pool_size=2))\n",
        "m1.add(Convolution2D(filters=64, kernel_size=4, padding='same', activation='relu'))\n",
        "m1.add(MaxPooling2D(pool_size=2))\n",
        "m1.add(Convolution2D(filters=128, kernel_size=3, padding='same', activation='relu'))\n",
        "m1.add(MaxPooling2D(pool_size=2))\n",
        "m1.add(Convolution2D(filters=128, kernel_size=2, padding='same', activation='relu'))\n",
        "m1.add(MaxPooling2D(pool_size=2))\n",
        "m1.add(Dropout(0.25))\n",
        "m1.add(Flatten()) \n",
        "m1.add(Dense(units=128,activation = 'relu'))\n",
        "m1.add(Dense(units = 64, activation = 'relu'))\n",
        "m1.add(Dense(units = 32, activation = 'relu'))\n",
        "m1.add(Dense(units = 2, activation = 'softmax'))"
      ],
      "execution_count": null,
      "outputs": []
    },
    {
      "cell_type": "code",
      "metadata": {
        "id": "q3uNM60Y80-6"
      },
      "source": [
        "## compiling the network\n",
        "m1.compile(optimizer='adam', loss = 'categorical_crossentropy',metrics = ['accuracy'])"
      ],
      "execution_count": null,
      "outputs": []
    },
    {
      "cell_type": "code",
      "metadata": {
        "id": "sDYD0ttD84YZ",
        "colab": {
          "base_uri": "https://localhost:8080/"
        },
        "outputId": "1d111681-44aa-4bbf-e635-9f2d927a1d89"
      },
      "source": [
        "## model training\n",
        "history = m1.fit(X_train,y_train,\n",
        "                    epochs=50, \n",
        "                    validation_data=(X_test,y_test),\n",
        "                    verbose = 1,\n",
        "                    initial_epoch=0)"
      ],
      "execution_count": null,
      "outputs": [
        {
          "output_type": "stream",
          "text": [
            "Epoch 1/50\n",
            "6/6 [==============================] - 46s 176ms/step - loss: 0.6777 - accuracy: 0.5699 - val_loss: 2.4380 - val_accuracy: 0.6071\n",
            "Epoch 2/50\n",
            "6/6 [==============================] - 0s 9ms/step - loss: 0.6528 - accuracy: 0.6048 - val_loss: 2.7321 - val_accuracy: 0.6071\n",
            "Epoch 3/50\n",
            "6/6 [==============================] - 0s 10ms/step - loss: 0.6308 - accuracy: 0.6156 - val_loss: 0.8071 - val_accuracy: 0.6071\n",
            "Epoch 4/50\n",
            "6/6 [==============================] - 0s 9ms/step - loss: 0.6256 - accuracy: 0.6288 - val_loss: 1.6886 - val_accuracy: 0.6071\n",
            "Epoch 5/50\n",
            "6/6 [==============================] - 0s 10ms/step - loss: 0.5829 - accuracy: 0.7170 - val_loss: 1.2700 - val_accuracy: 0.6071\n",
            "Epoch 6/50\n",
            "6/6 [==============================] - 0s 8ms/step - loss: 0.5707 - accuracy: 0.7118 - val_loss: 1.5358 - val_accuracy: 0.6071\n",
            "Epoch 7/50\n",
            "6/6 [==============================] - 0s 9ms/step - loss: 0.5914 - accuracy: 0.6947 - val_loss: 2.1567 - val_accuracy: 0.6071\n",
            "Epoch 8/50\n",
            "6/6 [==============================] - 0s 9ms/step - loss: 0.6296 - accuracy: 0.6844 - val_loss: 0.6775 - val_accuracy: 0.6310\n",
            "Epoch 9/50\n",
            "6/6 [==============================] - 0s 10ms/step - loss: 0.5328 - accuracy: 0.7576 - val_loss: 0.8180 - val_accuracy: 0.6310\n",
            "Epoch 10/50\n",
            "6/6 [==============================] - 0s 9ms/step - loss: 0.4580 - accuracy: 0.8097 - val_loss: 1.0414 - val_accuracy: 0.6310\n",
            "Epoch 11/50\n",
            "6/6 [==============================] - 0s 10ms/step - loss: 0.4510 - accuracy: 0.8175 - val_loss: 0.7464 - val_accuracy: 0.6786\n",
            "Epoch 12/50\n",
            "6/6 [==============================] - 0s 9ms/step - loss: 0.3731 - accuracy: 0.8680 - val_loss: 0.6913 - val_accuracy: 0.7262\n",
            "Epoch 13/50\n",
            "6/6 [==============================] - 0s 9ms/step - loss: 0.2832 - accuracy: 0.8992 - val_loss: 0.8111 - val_accuracy: 0.7262\n",
            "Epoch 14/50\n",
            "6/6 [==============================] - 0s 8ms/step - loss: 0.1802 - accuracy: 0.9335 - val_loss: 0.5154 - val_accuracy: 0.8214\n",
            "Epoch 15/50\n",
            "6/6 [==============================] - 0s 9ms/step - loss: 0.2435 - accuracy: 0.8740 - val_loss: 0.6182 - val_accuracy: 0.7619\n",
            "Epoch 16/50\n",
            "6/6 [==============================] - 0s 9ms/step - loss: 0.3526 - accuracy: 0.8333 - val_loss: 0.6119 - val_accuracy: 0.7976\n",
            "Epoch 17/50\n",
            "6/6 [==============================] - 0s 8ms/step - loss: 0.1918 - accuracy: 0.9221 - val_loss: 0.5078 - val_accuracy: 0.8095\n",
            "Epoch 18/50\n",
            "6/6 [==============================] - 0s 9ms/step - loss: 0.1858 - accuracy: 0.9169 - val_loss: 0.3877 - val_accuracy: 0.8571\n",
            "Epoch 19/50\n",
            "6/6 [==============================] - 0s 10ms/step - loss: 0.1233 - accuracy: 0.9703 - val_loss: 0.4743 - val_accuracy: 0.8571\n",
            "Epoch 20/50\n",
            "6/6 [==============================] - 0s 9ms/step - loss: 0.0833 - accuracy: 0.9707 - val_loss: 0.6005 - val_accuracy: 0.8690\n",
            "Epoch 21/50\n",
            "6/6 [==============================] - 0s 8ms/step - loss: 0.0812 - accuracy: 0.9685 - val_loss: 0.7329 - val_accuracy: 0.8095\n",
            "Epoch 22/50\n",
            "6/6 [==============================] - 0s 9ms/step - loss: 0.0676 - accuracy: 0.9805 - val_loss: 0.5382 - val_accuracy: 0.8452\n",
            "Epoch 23/50\n",
            "6/6 [==============================] - 0s 10ms/step - loss: 0.0657 - accuracy: 0.9726 - val_loss: 0.4451 - val_accuracy: 0.8571\n",
            "Epoch 24/50\n",
            "6/6 [==============================] - 0s 9ms/step - loss: 0.0616 - accuracy: 0.9844 - val_loss: 0.5532 - val_accuracy: 0.8333\n",
            "Epoch 25/50\n",
            "6/6 [==============================] - 0s 10ms/step - loss: 0.0565 - accuracy: 0.9803 - val_loss: 0.4854 - val_accuracy: 0.8571\n",
            "Epoch 26/50\n",
            "6/6 [==============================] - 0s 9ms/step - loss: 0.0298 - accuracy: 0.9974 - val_loss: 0.6788 - val_accuracy: 0.8571\n",
            "Epoch 27/50\n",
            "6/6 [==============================] - 0s 9ms/step - loss: 0.0465 - accuracy: 0.9848 - val_loss: 0.7114 - val_accuracy: 0.8571\n",
            "Epoch 28/50\n",
            "6/6 [==============================] - 0s 10ms/step - loss: 0.0085 - accuracy: 1.0000 - val_loss: 0.5446 - val_accuracy: 0.8333\n",
            "Epoch 29/50\n",
            "6/6 [==============================] - 0s 9ms/step - loss: 0.0069 - accuracy: 1.0000 - val_loss: 0.5785 - val_accuracy: 0.8690\n",
            "Epoch 30/50\n",
            "6/6 [==============================] - 0s 10ms/step - loss: 0.0071 - accuracy: 0.9983 - val_loss: 0.6291 - val_accuracy: 0.8571\n",
            "Epoch 31/50\n",
            "6/6 [==============================] - 0s 9ms/step - loss: 0.0102 - accuracy: 0.9974 - val_loss: 0.7548 - val_accuracy: 0.8452\n",
            "Epoch 32/50\n",
            "6/6 [==============================] - 0s 10ms/step - loss: 0.0221 - accuracy: 0.9926 - val_loss: 0.6475 - val_accuracy: 0.8690\n",
            "Epoch 33/50\n",
            "6/6 [==============================] - 0s 9ms/step - loss: 0.0042 - accuracy: 1.0000 - val_loss: 0.7094 - val_accuracy: 0.8810\n",
            "Epoch 34/50\n",
            "6/6 [==============================] - 0s 9ms/step - loss: 0.0083 - accuracy: 0.9974 - val_loss: 0.7217 - val_accuracy: 0.8810\n",
            "Epoch 35/50\n",
            "6/6 [==============================] - 0s 9ms/step - loss: 0.0020 - accuracy: 1.0000 - val_loss: 0.7019 - val_accuracy: 0.8571\n",
            "Epoch 36/50\n",
            "6/6 [==============================] - 0s 9ms/step - loss: 0.0052 - accuracy: 1.0000 - val_loss: 1.1094 - val_accuracy: 0.8690\n",
            "Epoch 37/50\n",
            "6/6 [==============================] - 0s 9ms/step - loss: 0.0073 - accuracy: 1.0000 - val_loss: 1.0905 - val_accuracy: 0.8690\n",
            "Epoch 38/50\n",
            "6/6 [==============================] - 0s 11ms/step - loss: 0.0048 - accuracy: 1.0000 - val_loss: 0.5874 - val_accuracy: 0.8690\n",
            "Epoch 39/50\n",
            "6/6 [==============================] - 0s 9ms/step - loss: 0.0096 - accuracy: 0.9948 - val_loss: 1.2968 - val_accuracy: 0.8690\n",
            "Epoch 40/50\n",
            "6/6 [==============================] - 0s 9ms/step - loss: 0.0338 - accuracy: 0.9777 - val_loss: 0.9053 - val_accuracy: 0.8333\n",
            "Epoch 41/50\n",
            "6/6 [==============================] - 0s 9ms/step - loss: 0.2079 - accuracy: 0.9477 - val_loss: 0.5783 - val_accuracy: 0.8571\n",
            "Epoch 42/50\n",
            "6/6 [==============================] - 0s 9ms/step - loss: 0.0326 - accuracy: 0.9764 - val_loss: 0.3842 - val_accuracy: 0.8810\n",
            "Epoch 43/50\n",
            "6/6 [==============================] - 0s 10ms/step - loss: 0.0815 - accuracy: 0.9711 - val_loss: 0.3957 - val_accuracy: 0.8810\n",
            "Epoch 44/50\n",
            "6/6 [==============================] - 0s 10ms/step - loss: 0.0951 - accuracy: 0.9584 - val_loss: 0.3730 - val_accuracy: 0.8810\n",
            "Epoch 45/50\n",
            "6/6 [==============================] - 0s 9ms/step - loss: 0.0391 - accuracy: 0.9911 - val_loss: 0.4202 - val_accuracy: 0.8810\n",
            "Epoch 46/50\n",
            "6/6 [==============================] - 0s 10ms/step - loss: 0.0093 - accuracy: 1.0000 - val_loss: 0.4558 - val_accuracy: 0.8690\n",
            "Epoch 47/50\n",
            "6/6 [==============================] - 0s 9ms/step - loss: 0.0085 - accuracy: 1.0000 - val_loss: 0.5256 - val_accuracy: 0.8929\n",
            "Epoch 48/50\n",
            "6/6 [==============================] - 0s 9ms/step - loss: 0.0068 - accuracy: 0.9963 - val_loss: 0.5455 - val_accuracy: 0.8810\n",
            "Epoch 49/50\n",
            "6/6 [==============================] - 0s 9ms/step - loss: 0.0023 - accuracy: 1.0000 - val_loss: 0.5237 - val_accuracy: 0.8690\n",
            "Epoch 50/50\n",
            "6/6 [==============================] - 0s 9ms/step - loss: 0.0017 - accuracy: 1.0000 - val_loss: 0.5118 - val_accuracy: 0.8690\n"
          ],
          "name": "stdout"
        }
      ]
    },
    {
      "cell_type": "code",
      "metadata": {
        "id": "a1FYVFWh8_nY",
        "colab": {
          "base_uri": "https://localhost:8080/",
          "height": 312
        },
        "outputId": "9f0ccc7e-a05a-458d-ea31-2a50987797af"
      },
      "source": [
        "## evaluation\n",
        "m1.evaluate(X_test,y_test)\n",
        "plt.plot(history.history['val_accuracy'])\n",
        "plt.title('model accuracy')\n",
        "plt.ylabel('accuracy')\n",
        "plt.xlabel('epoch')\n",
        "plt.legend(['train', 'validation'], loc='upper left')\n",
        "plt.show()"
      ],
      "execution_count": null,
      "outputs": [
        {
          "output_type": "stream",
          "text": [
            "3/3 [==============================] - 0s 5ms/step - loss: 0.5118 - accuracy: 0.8690\n"
          ],
          "name": "stdout"
        },
        {
          "output_type": "display_data",
          "data": {
            "image/png": "[encoded data removed]",
            "text/plain": [
              "<Figure size 432x288 with 1 Axes>"
            ]
          },
          "metadata": {
            "tags": [],
            "needs_background": "light"
          }
        }
      ]
    },
    {
      "cell_type": "code",
      "metadata": {
        "id": "9-S2hu5k9DCQ",
        "colab": {
          "base_uri": "https://localhost:8080/",
          "height": 282
        },
        "outputId": "6d37452f-4678-4332-dc50-ab771e41d033"
      },
      "source": [
        "## visualization\n",
        "plt.plot(history.history['accuracy'])"
      ],
      "execution_count": null,
      "outputs": [
        {
          "output_type": "execute_result",
          "data": {
            "text/plain": [
              "[<matplotlib.lines.Line2D at 0x7f9e4014a4d0>]"
            ]
          },
          "metadata": {
            "tags": []
          },
          "execution_count": 12
        },
        {
          "output_type": "display_data",
          "data": {
            "image/png": "[encoded data removed]",
            "text/plain": [
              "<Figure size 432x288 with 1 Axes>"
            ]
          },
          "metadata": {
            "tags": [],
            "needs_background": "light"
          }
        }
      ]
    },
    {
      "cell_type": "code",
      "metadata": {
        "id": "N-4olzF29HiC",
        "colab": {
          "base_uri": "https://localhost:8080/",
          "height": 295
        },
        "outputId": "ac5ed16f-c7f5-4277-ff16-58465d95de0d"
      },
      "source": [
        "plt.plot(history.history['loss'])\n",
        "plt.plot(history.history['val_loss'])\n",
        "plt.title('model loss')\n",
        "plt.ylabel('loss')\n",
        "plt.xlabel('epoch')\n",
        "plt.legend(['train', 'validation'], loc='upper left')\n",
        "plt.show()"
      ],
      "execution_count": null,
      "outputs": [
        {
          "output_type": "display_data",
          "data": {
            "image/png": "[encoded data removed]",
            "text/plain": [
              "<Figure size 432x288 with 1 Axes>"
            ]
          },
          "metadata": {
            "tags": [],
            "needs_background": "light"
          }
        }
      ]
    },
    {
      "cell_type": "code",
      "metadata": {
        "id": "l2BYhm369MC5",
        "colab": {
          "base_uri": "https://localhost:8080/",
          "height": 740
        },
        "outputId": "0b6f6755-7fee-4612-d9f6-b87ad3ab7488"
      },
      "source": [
        "##computing predictions\n",
        "y_predicted=m1.predict_classes(X_test)\n",
        "y_actual=np.argmax(y_test,axis=1)\n",
        "L = 2\n",
        "W = 2\n",
        "fig, axes = plt.subplots(L, W, figsize = (12,12))\n",
        "axes = axes.ravel()\n",
        "for i in np.arange(0, L * W):  \n",
        "    axes[i].imshow(X_test[i])\n",
        "    axes[i].set_title(f\"Prediction Class = {y_predicted[i]:0.1f}\\n Actual Label = {y_actual[i]:0.1f}\")\n",
        "    axes[i].axis('off')\n",
        "plt.subplots_adjust(wspace=0.5)"
      ],
      "execution_count": null,
      "outputs": [
        {
          "output_type": "stream",
          "text": [
            "/usr/local/lib/python3.7/dist-packages/keras/engine/sequential.py:450: UserWarning: `model.predict_classes()` is deprecated and will be removed after 2021-01-01. Please use instead:* `np.argmax(model.predict(x), axis=-1)`,   if your model does multi-class classification   (e.g. if it uses a `softmax` last-layer activation).* `(model.predict(x) > 0.5).astype(\"int32\")`,   if your model does binary classification   (e.g. if it uses a `sigmoid` last-layer activation).\n",
            "  warnings.warn('`model.predict_classes()` is deprecated and '\n"
          ],
          "name": "stderr"
        },
        {
          "output_type": "display_data",
          "data": {
            "image/png": "[encoded data removed]",
            "text/plain": [
              "<Figure size 864x864 with 4 Axes>"
            ]
          },
          "metadata": {
            "tags": [],
            "needs_background": "light"
          }
        }
      ]
    },
    {
      "cell_type": "code",
      "metadata": {
        "id": "Bbl_6zIP9RbU",
        "colab": {
          "base_uri": "https://localhost:8080/"
        },
        "outputId": "7c86941c-2a10-4222-bb4b-c6017475569e"
      },
      "source": [
        "## report of the model\n",
        "from sklearn.metrics import classification_report\n",
        "print(classification_report(y_actual, y_predicted))\n"
      ],
      "execution_count": null,
      "outputs": [
        {
          "output_type": "stream",
          "text": [
            "              precision    recall  f1-score   support\n",
            "\n",
            "           0       0.87      0.79      0.83        33\n",
            "           1       0.87      0.92      0.90        51\n",
            "\n",
            "    accuracy                           0.87        84\n",
            "   macro avg       0.87      0.85      0.86        84\n",
            "weighted avg       0.87      0.87      0.87        84\n",
            "\n"
          ],
          "name": "stdout"
        }
      ]
    },
    {
      "cell_type": "code",
      "metadata": {
        "colab": {
          "base_uri": "https://localhost:8080/",
          "height": 218,
          "referenced_widgets": [
            "51f51e0e926047da8065666a10d6b9b5",
            "b59eb21cb3ea4a12aa91e0add9818aea",
            "433d747669b948e0b426f6bcf0cc480f",
            "bdf13fbb26c64fda8432cdfb933ff138",
            "b2f8e40d812a4118a955f64eb2eaad83",
            "c45fffd48dd34f0fbcadd87bf1cbcee8",
            "4c02e6e784e24acbaa133dc0169f7bb7",
            "066d7aec020b4a2db460dd2eaa69208c"
          ]
        },
        "id": "NvxuomzL07ql",
        "outputId": "377909f2-8823-44e5-b59b-a714619309a4"
      },
      "source": [
        "\n",
        "os.chdir('/content/drive/MyDrive/Trial')\n",
        "X1 = []\n",
        "\n",
        "for i in tqdm(os.listdir()):\n",
        "      imgn = cv2.imread(i) \n",
        "      if type(imgn) is np.ndarray:\n",
        "            if imgn.size == 0:\n",
        "                continue\n",
        "      if imgn is None:\n",
        "            continue\n",
        "      imgn = cv2.resize(imgn,(28,28))\n",
        "      X1.append(imgn)\n",
        "\n",
        "%matplotlib inline\n",
        "import matplotlib.pyplot as plt\n",
        "plt.figure(figsize=(10, 10))\n",
        "for i in range(2):\n",
        "    plt.subplot(1, 4, i+1)\n",
        "    plt.imshow(X1[i], cmap=\"gray\")\n",
        "    plt.axis('off')\n",
        "plt.show()\n",
        "X1[0].shape"
      ],
      "execution_count": null,
      "outputs": [
        {
          "output_type": "display_data",
          "data": {
            "application/vnd.jupyter.widget-view+json": {
              "model_id": "51f51e0e926047da8065666a10d6b9b5",
              "version_minor": 0,
              "version_major": 2
            },
            "text/plain": [
              "HBox(children=(FloatProgress(value=0.0, max=3.0), HTML(value='')))"
            ]
          },
          "metadata": {
            "tags": []
          }
        },
        {
          "output_type": "stream",
          "text": [
            "\n"
          ],
          "name": "stdout"
        },
        {
          "output_type": "display_data",
          "data": {
            "image/png": "[encoded data removed]",
            "text/plain": [
              "<Figure size 720x720 with 2 Axes>"
            ]
          },
          "metadata": {
            "tags": [],
            "needs_background": "light"
          }
        },
        {
          "output_type": "execute_result",
          "data": {
            "text/plain": [
              "(28, 28, 3)"
            ]
          },
          "metadata": {
            "tags": []
          },
          "execution_count": 16
        }
      ]
    },
    {
      "cell_type": "code",
      "metadata": {
        "colab": {
          "base_uri": "https://localhost:8080/",
          "height": 753
        },
        "id": "peMdvlex1CAr",
        "outputId": "b53d1801-ab80-4b3a-a09a-c3166a474cdf"
      },
      "source": [
        "##prediction made by algorithm\n",
        "le = preprocessing.LabelEncoder()\n",
        "X1 = np.array(X1)\n",
        "\n",
        "\n",
        "y_pred=m1.predict_classes(X1)\n",
        "fig, axes = plt.subplots(2, 1, figsize = (12,12))\n",
        "axes = axes.ravel()\n",
        "for i in np.arange(0, 2):  \n",
        "    axes[i].imshow(X1[i])\n",
        "    axes[i].set_title(f\"Prediction Class = {y_pred[i]:0.1f}\")\n",
        "    axes[i].axis('off')\n",
        "plt.subplots_adjust(wspace=0.5)"
      ],
      "execution_count": null,
      "outputs": [
        {
          "output_type": "stream",
          "text": [
            "/usr/local/lib/python3.7/dist-packages/keras/engine/sequential.py:450: UserWarning: `model.predict_classes()` is deprecated and will be removed after 2021-01-01. Please use instead:* `np.argmax(model.predict(x), axis=-1)`,   if your model does multi-class classification   (e.g. if it uses a `softmax` last-layer activation).* `(model.predict(x) > 0.5).astype(\"int32\")`,   if your model does binary classification   (e.g. if it uses a `sigmoid` last-layer activation).\n",
            "  warnings.warn('`model.predict_classes()` is deprecated and '\n"
          ],
          "name": "stderr"
        },
        {
          "output_type": "display_data",
          "data": {
            "image/png": "[encoded data removed]",
            "text/plain": [
              "<Figure size 864x864 with 2 Axes>"
            ]
          },
          "metadata": {
            "tags": [],
            "needs_background": "light"
          }
        }
      ]
    }
  ]
}